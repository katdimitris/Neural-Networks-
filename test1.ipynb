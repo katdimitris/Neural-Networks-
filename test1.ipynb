{
 "cells": [
  {
   "cell_type": "code",
   "execution_count": 223,
   "id": "ae83de6e",
   "metadata": {},
   "outputs": [],
   "source": [
    "import numpy as np\n",
    "import pandas as pd\n",
    "import seaborn as sns\n",
    "import matplotlib.pyplot as plt\n",
    "\n",
    "import torch\n",
    "import torch.nn as nn\n",
    "import torch.optim as optim\n",
    "from torch.utils.data import Dataset, DataLoader\n",
    "\n",
    "from sklearn.preprocessing import StandardScaler    \n",
    "from sklearn.model_selection import train_test_split\n",
    "from sklearn.metrics import confusion_matrix, classification_report"
   ]
  },
  {
   "cell_type": "code",
   "execution_count": 224,
   "id": "058600b2",
   "metadata": {},
   "outputs": [],
   "source": [
    "df = pd.read_csv(\"cryptodata/Binance_BTCUSDT_d.csv\")"
   ]
  },
  {
   "cell_type": "code",
   "execution_count": 225,
   "id": "4645048f",
   "metadata": {},
   "outputs": [],
   "source": [
    "df = df.drop(['unix','symbol', 'open', 'high', 'Volume USDT', 'tradecount','low'], axis=1)"
   ]
  },
  {
   "cell_type": "code",
   "execution_count": 226,
   "id": "35047669",
   "metadata": {},
   "outputs": [],
   "source": [
    "def label(x):\n",
    "    if x>0:\n",
    "        return 'BUY'\n",
    "    return 'SELL'"
   ]
  },
  {
   "cell_type": "code",
   "execution_count": 227,
   "id": "ce6e90c6",
   "metadata": {},
   "outputs": [],
   "source": [
    "df = df.reindex(index=df.index[::-1])\n",
    "df['date'] = pd.to_datetime(df['date'])\n",
    "df = df.set_index('date')"
   ]
  },
  {
   "cell_type": "code",
   "execution_count": 228,
   "id": "17e8e4b6",
   "metadata": {},
   "outputs": [],
   "source": [
    "df['MA5'] = df['close'].rolling(window=5).mean()\n",
    "df['MA30'] = df['close'].rolling(window=30).mean()\n",
    "df['pct_change'] = df[\"close\"].pct_change(periods=7).shift(-7)\n",
    "df['action'] = df['pct_change'].apply(label)"
   ]
  },
  {
   "cell_type": "code",
   "execution_count": 229,
   "id": "55d4eab3",
   "metadata": {},
   "outputs": [],
   "source": [
    "df = df.dropna()"
   ]
  },
  {
   "cell_type": "code",
   "execution_count": 231,
   "id": "fd2c16d2",
   "metadata": {},
   "outputs": [],
   "source": [
    "df['action'] = df['action'].astype('category')\n",
    "encode_map = {\n",
    "    'BUY': 1,\n",
    "    'SELL': 0\n",
    "}\n",
    "df['action'].replace(encode_map, inplace=True)"
   ]
  },
  {
   "cell_type": "code",
   "execution_count": 232,
   "id": "b07d7729",
   "metadata": {},
   "outputs": [],
   "source": [
    "X = df.drop(['action','close'],axis=1)\n",
    "y = df['action']"
   ]
  },
  {
   "cell_type": "code",
   "execution_count": 233,
   "id": "d314ba2f",
   "metadata": {},
   "outputs": [],
   "source": [
    "X_train, X_test, y_train, y_test = train_test_split(X, y, test_size=0.33, shuffle=False)"
   ]
  },
  {
   "cell_type": "code",
   "execution_count": 235,
   "id": "4eca682c",
   "metadata": {},
   "outputs": [],
   "source": [
    "scaler = StandardScaler()\n",
    "X_train = scaler.fit_transform(X_train)\n",
    "X_test = scaler.transform(X_test)"
   ]
  },
  {
   "cell_type": "code",
   "execution_count": 191,
   "id": "f2d9fc6e",
   "metadata": {},
   "outputs": [],
   "source": [
    "EPOCHS = 50\n",
    "BATCH_SIZE = 64\n",
    "LEARNING_RATE = 0.001"
   ]
  },
  {
   "cell_type": "code",
   "execution_count": 192,
   "id": "a61896b7",
   "metadata": {},
   "outputs": [],
   "source": [
    "## train data\n",
    "class trainData(Dataset):\n",
    "    \n",
    "    def __init__(self, X_data, y_data):\n",
    "        self.X_data = X_data\n",
    "        self.y_data = y_data\n",
    "        \n",
    "    def __getitem__(self, index):\n",
    "        return self.X_data[index], self.y_data[index]\n",
    "        \n",
    "    def __len__ (self):\n",
    "        return len(self.X_data)\n",
    "\n",
    "\n",
    "train_data = trainData(torch.FloatTensor(X_train), \n",
    "                       torch.FloatTensor(y_train))\n",
    "## test data    \n",
    "class testData(Dataset):\n",
    "    \n",
    "    def __init__(self, X_data):\n",
    "        self.X_data = X_data\n",
    "        \n",
    "    def __getitem__(self, index):\n",
    "        return self.X_data[index]\n",
    "        \n",
    "    def __len__ (self):\n",
    "        return len(self.X_data)\n",
    "    \n",
    "\n",
    "test_data = testData(torch.FloatTensor(X_test))"
   ]
  },
  {
   "cell_type": "code",
   "execution_count": 193,
   "id": "66dfce66",
   "metadata": {},
   "outputs": [],
   "source": [
    "train_loader = DataLoader(dataset=train_data, batch_size=BATCH_SIZE, shuffle=True)\n",
    "test_loader = DataLoader(dataset=test_data, batch_size=1)"
   ]
  },
  {
   "cell_type": "code",
   "execution_count": 194,
   "id": "47b69e3b",
   "metadata": {},
   "outputs": [],
   "source": [
    "class binaryClassification(nn.Module):\n",
    "    def __init__(self):\n",
    "        super(binaryClassification, self).__init__()\n",
    "        # Number of input features is 12.\n",
    "        self.layer_1 = nn.Linear(4, 64) \n",
    "        self.layer_2 = nn.Linear(64, 64)\n",
    "        self.layer_out = nn.Linear(64, 1) \n",
    "        \n",
    "        self.relu = nn.ReLU()\n",
    "        self.dropout = nn.Dropout(p=0.1)\n",
    "        self.batchnorm1 = nn.BatchNorm1d(64)\n",
    "        self.batchnorm2 = nn.BatchNorm1d(64)\n",
    "        \n",
    "    def forward(self, inputs):\n",
    "        x = self.relu(self.layer_1(inputs))\n",
    "        x = self.batchnorm1(x)\n",
    "        x = self.relu(self.layer_2(x))\n",
    "        x = self.batchnorm2(x)\n",
    "        x = self.dropout(x)\n",
    "        x = self.layer_out(x)\n",
    "        \n",
    "        return x"
   ]
  },
  {
   "cell_type": "code",
   "execution_count": 195,
   "id": "f3713994",
   "metadata": {},
   "outputs": [
    {
     "name": "stdout",
     "output_type": "stream",
     "text": [
      "cuda:0\n"
     ]
    }
   ],
   "source": [
    "device = torch.device(\"cuda:0\" if torch.cuda.is_available() else \"cpu\")\n",
    "print(device)"
   ]
  },
  {
   "cell_type": "code",
   "execution_count": 196,
   "id": "c071f949",
   "metadata": {},
   "outputs": [
    {
     "name": "stdout",
     "output_type": "stream",
     "text": [
      "binaryClassification(\n",
      "  (layer_1): Linear(in_features=4, out_features=64, bias=True)\n",
      "  (layer_2): Linear(in_features=64, out_features=64, bias=True)\n",
      "  (layer_out): Linear(in_features=64, out_features=1, bias=True)\n",
      "  (relu): ReLU()\n",
      "  (dropout): Dropout(p=0.1, inplace=False)\n",
      "  (batchnorm1): BatchNorm1d(64, eps=1e-05, momentum=0.1, affine=True, track_running_stats=True)\n",
      "  (batchnorm2): BatchNorm1d(64, eps=1e-05, momentum=0.1, affine=True, track_running_stats=True)\n",
      ")\n"
     ]
    }
   ],
   "source": [
    "model = binaryClassification()\n",
    "model.to(device)\n",
    "print(model)\n",
    "criterion = nn.BCEWithLogitsLoss()\n",
    "optimizer = optim.Adam(model.parameters(), lr=LEARNING_RATE)"
   ]
  },
  {
   "cell_type": "code",
   "execution_count": 197,
   "id": "77afc383",
   "metadata": {},
   "outputs": [],
   "source": [
    "def binary_acc(y_pred, y_test):\n",
    "    y_pred_tag = torch.round(torch.sigmoid(y_pred))\n",
    "\n",
    "    correct_results_sum = (y_pred_tag == y_test).sum().float()\n",
    "    acc = correct_results_sum/y_test.shape[0]\n",
    "    acc = torch.round(acc * 100)\n",
    "    \n",
    "    return acc"
   ]
  },
  {
   "cell_type": "code",
   "execution_count": 198,
   "id": "6c85f8dc",
   "metadata": {},
   "outputs": [
    {
     "name": "stdout",
     "output_type": "stream",
     "text": [
      "Epoch 001: | Loss: 0.45954 | Acc: 81.812\n",
      "Epoch 002: | Loss: 0.27633 | Acc: 92.188\n",
      "Epoch 003: | Loss: 0.20667 | Acc: 93.938\n",
      "Epoch 004: | Loss: 0.17599 | Acc: 95.000\n",
      "Epoch 005: | Loss: 0.15891 | Acc: 94.688\n",
      "Epoch 006: | Loss: 0.13309 | Acc: 95.562\n",
      "Epoch 007: | Loss: 0.12231 | Acc: 95.750\n",
      "Epoch 008: | Loss: 0.12707 | Acc: 94.062\n",
      "Epoch 009: | Loss: 0.10873 | Acc: 96.125\n",
      "Epoch 010: | Loss: 0.09906 | Acc: 95.750\n",
      "Epoch 011: | Loss: 0.09489 | Acc: 96.688\n",
      "Epoch 012: | Loss: 0.10083 | Acc: 96.188\n",
      "Epoch 013: | Loss: 0.09183 | Acc: 95.812\n",
      "Epoch 014: | Loss: 0.09531 | Acc: 95.625\n",
      "Epoch 015: | Loss: 0.08969 | Acc: 95.938\n",
      "Epoch 016: | Loss: 0.09536 | Acc: 96.438\n",
      "Epoch 017: | Loss: 0.08858 | Acc: 96.062\n",
      "Epoch 018: | Loss: 0.11124 | Acc: 94.250\n",
      "Epoch 019: | Loss: 0.10692 | Acc: 95.312\n",
      "Epoch 020: | Loss: 0.10237 | Acc: 95.250\n",
      "Epoch 021: | Loss: 0.07644 | Acc: 97.625\n",
      "Epoch 022: | Loss: 0.09347 | Acc: 95.875\n",
      "Epoch 023: | Loss: 0.06596 | Acc: 96.938\n",
      "Epoch 024: | Loss: 0.10096 | Acc: 95.562\n",
      "Epoch 025: | Loss: 0.09013 | Acc: 95.500\n",
      "Epoch 026: | Loss: 0.10575 | Acc: 96.125\n",
      "Epoch 027: | Loss: 0.07169 | Acc: 97.875\n",
      "Epoch 028: | Loss: 0.05951 | Acc: 97.438\n",
      "Epoch 029: | Loss: 0.05937 | Acc: 97.375\n",
      "Epoch 030: | Loss: 0.05916 | Acc: 98.312\n",
      "Epoch 031: | Loss: 0.07178 | Acc: 96.750\n",
      "Epoch 032: | Loss: 0.06941 | Acc: 97.438\n",
      "Epoch 033: | Loss: 0.06082 | Acc: 97.250\n",
      "Epoch 034: | Loss: 0.06692 | Acc: 97.375\n",
      "Epoch 035: | Loss: 0.06889 | Acc: 97.250\n",
      "Epoch 036: | Loss: 0.06975 | Acc: 97.312\n",
      "Epoch 037: | Loss: 0.05408 | Acc: 98.000\n",
      "Epoch 038: | Loss: 0.06442 | Acc: 97.250\n",
      "Epoch 039: | Loss: 0.05284 | Acc: 98.438\n",
      "Epoch 040: | Loss: 0.05926 | Acc: 97.125\n",
      "Epoch 041: | Loss: 0.07509 | Acc: 97.000\n",
      "Epoch 042: | Loss: 0.05425 | Acc: 97.875\n",
      "Epoch 043: | Loss: 0.06562 | Acc: 97.250\n",
      "Epoch 044: | Loss: 0.05626 | Acc: 97.375\n",
      "Epoch 045: | Loss: 0.07382 | Acc: 96.938\n",
      "Epoch 046: | Loss: 0.05269 | Acc: 97.750\n",
      "Epoch 047: | Loss: 0.04993 | Acc: 97.750\n",
      "Epoch 048: | Loss: 0.04860 | Acc: 97.750\n",
      "Epoch 049: | Loss: 0.03188 | Acc: 98.938\n",
      "Epoch 050: | Loss: 0.03629 | Acc: 98.625\n"
     ]
    }
   ],
   "source": [
    "model.train()\n",
    "for e in range(1, EPOCHS+1):\n",
    "    epoch_loss = 0\n",
    "    epoch_acc = 0\n",
    "    for X_batch, y_batch in train_loader:\n",
    "        X_batch, y_batch = X_batch.to(device), y_batch.to(device)\n",
    "        optimizer.zero_grad()\n",
    "        \n",
    "        y_pred = model(X_batch)\n",
    "        \n",
    "        loss = criterion(y_pred, y_batch.unsqueeze(1))\n",
    "        acc = binary_acc(y_pred, y_batch.unsqueeze(1))\n",
    "        \n",
    "        loss.backward()\n",
    "        optimizer.step()\n",
    "        \n",
    "        epoch_loss += loss.item()\n",
    "        epoch_acc += acc.item()\n",
    "        \n",
    "\n",
    "    print(f'Epoch {e+0:03}: | Loss: {epoch_loss/len(train_loader):.5f} | Acc: {epoch_acc/len(train_loader):.3f}')"
   ]
  },
  {
   "cell_type": "code",
   "execution_count": 199,
   "id": "efc72c4d",
   "metadata": {},
   "outputs": [],
   "source": [
    "y_pred_list = []\n",
    "model.eval()\n",
    "with torch.no_grad():\n",
    "    for X_batch in test_loader:\n",
    "        X_batch = X_batch.to(device)\n",
    "        y_test_pred = model(X_batch)\n",
    "        y_test_pred = torch.sigmoid(y_test_pred)\n",
    "        y_pred_tag = torch.round(y_test_pred)\n",
    "        y_pred_list.append(y_pred_tag.cpu().numpy())\n",
    "\n",
    "y_pred_list = [a.squeeze().tolist() for a in y_pred_list]"
   ]
  },
  {
   "cell_type": "code",
   "execution_count": 200,
   "id": "03bad547",
   "metadata": {},
   "outputs": [
    {
     "data": {
      "text/plain": [
       "array([[195,   1],\n",
       "       [ 72, 226]], dtype=int64)"
      ]
     },
     "execution_count": 200,
     "metadata": {},
     "output_type": "execute_result"
    }
   ],
   "source": [
    "confusion_matrix(y_test, y_pred_list)"
   ]
  },
  {
   "cell_type": "code",
   "execution_count": 201,
   "id": "cd764a93",
   "metadata": {},
   "outputs": [
    {
     "name": "stdout",
     "output_type": "stream",
     "text": [
      "              precision    recall  f1-score   support\n",
      "\n",
      "           0       0.73      0.99      0.84       196\n",
      "           1       1.00      0.76      0.86       298\n",
      "\n",
      "    accuracy                           0.85       494\n",
      "   macro avg       0.86      0.88      0.85       494\n",
      "weighted avg       0.89      0.85      0.85       494\n",
      "\n"
     ]
    }
   ],
   "source": [
    "print(classification_report(y_test, y_pred_list))"
   ]
  },
  {
   "cell_type": "code",
   "execution_count": 207,
   "id": "30bdf677",
   "metadata": {},
   "outputs": [],
   "source": [
    "df1 = pd.DataFrame(y_test)"
   ]
  },
  {
   "cell_type": "code",
   "execution_count": 210,
   "id": "63dab486",
   "metadata": {},
   "outputs": [],
   "source": [
    "df1['pred'] = y_pred_list"
   ]
  },
  {
   "cell_type": "code",
   "execution_count": 238,
   "id": "f11da4dc",
   "metadata": {},
   "outputs": [
    {
     "data": {
      "text/html": [
       "<div>\n",
       "<style scoped>\n",
       "    .dataframe tbody tr th:only-of-type {\n",
       "        vertical-align: middle;\n",
       "    }\n",
       "\n",
       "    .dataframe tbody tr th {\n",
       "        vertical-align: top;\n",
       "    }\n",
       "\n",
       "    .dataframe thead th {\n",
       "        text-align: right;\n",
       "    }\n",
       "</style>\n",
       "<table border=\"1\" class=\"dataframe\">\n",
       "  <thead>\n",
       "    <tr style=\"text-align: right;\">\n",
       "      <th></th>\n",
       "      <th>action</th>\n",
       "      <th>pred</th>\n",
       "    </tr>\n",
       "    <tr>\n",
       "      <th>date</th>\n",
       "      <th></th>\n",
       "      <th></th>\n",
       "    </tr>\n",
       "  </thead>\n",
       "  <tbody>\n",
       "    <tr>\n",
       "      <th>2021-09-27</th>\n",
       "      <td>1</td>\n",
       "      <td>1.0</td>\n",
       "    </tr>\n",
       "    <tr>\n",
       "      <th>2021-09-28</th>\n",
       "      <td>1</td>\n",
       "      <td>1.0</td>\n",
       "    </tr>\n",
       "    <tr>\n",
       "      <th>2021-09-29</th>\n",
       "      <td>1</td>\n",
       "      <td>1.0</td>\n",
       "    </tr>\n",
       "    <tr>\n",
       "      <th>2021-09-30</th>\n",
       "      <td>1</td>\n",
       "      <td>1.0</td>\n",
       "    </tr>\n",
       "    <tr>\n",
       "      <th>2021-10-01</th>\n",
       "      <td>1</td>\n",
       "      <td>1.0</td>\n",
       "    </tr>\n",
       "    <tr>\n",
       "      <th>2021-10-02</th>\n",
       "      <td>1</td>\n",
       "      <td>1.0</td>\n",
       "    </tr>\n",
       "    <tr>\n",
       "      <th>2021-10-03</th>\n",
       "      <td>1</td>\n",
       "      <td>1.0</td>\n",
       "    </tr>\n",
       "    <tr>\n",
       "      <th>2021-10-04</th>\n",
       "      <td>1</td>\n",
       "      <td>1.0</td>\n",
       "    </tr>\n",
       "    <tr>\n",
       "      <th>2021-10-05</th>\n",
       "      <td>1</td>\n",
       "      <td>1.0</td>\n",
       "    </tr>\n",
       "    <tr>\n",
       "      <th>2021-10-06</th>\n",
       "      <td>1</td>\n",
       "      <td>0.0</td>\n",
       "    </tr>\n",
       "    <tr>\n",
       "      <th>2021-10-07</th>\n",
       "      <td>1</td>\n",
       "      <td>0.0</td>\n",
       "    </tr>\n",
       "    <tr>\n",
       "      <th>2021-10-08</th>\n",
       "      <td>1</td>\n",
       "      <td>1.0</td>\n",
       "    </tr>\n",
       "    <tr>\n",
       "      <th>2021-10-09</th>\n",
       "      <td>1</td>\n",
       "      <td>1.0</td>\n",
       "    </tr>\n",
       "    <tr>\n",
       "      <th>2021-10-10</th>\n",
       "      <td>1</td>\n",
       "      <td>1.0</td>\n",
       "    </tr>\n",
       "    <tr>\n",
       "      <th>2021-10-11</th>\n",
       "      <td>1</td>\n",
       "      <td>0.0</td>\n",
       "    </tr>\n",
       "    <tr>\n",
       "      <th>2021-10-12</th>\n",
       "      <td>1</td>\n",
       "      <td>1.0</td>\n",
       "    </tr>\n",
       "    <tr>\n",
       "      <th>2021-10-13</th>\n",
       "      <td>1</td>\n",
       "      <td>1.0</td>\n",
       "    </tr>\n",
       "    <tr>\n",
       "      <th>2021-10-14</th>\n",
       "      <td>1</td>\n",
       "      <td>0.0</td>\n",
       "    </tr>\n",
       "    <tr>\n",
       "      <th>2021-10-15</th>\n",
       "      <td>0</td>\n",
       "      <td>0.0</td>\n",
       "    </tr>\n",
       "    <tr>\n",
       "      <th>2021-10-16</th>\n",
       "      <td>0</td>\n",
       "      <td>0.0</td>\n",
       "    </tr>\n",
       "  </tbody>\n",
       "</table>\n",
       "</div>"
      ],
      "text/plain": [
       "            action  pred\n",
       "date                    \n",
       "2021-09-27       1   1.0\n",
       "2021-09-28       1   1.0\n",
       "2021-09-29       1   1.0\n",
       "2021-09-30       1   1.0\n",
       "2021-10-01       1   1.0\n",
       "2021-10-02       1   1.0\n",
       "2021-10-03       1   1.0\n",
       "2021-10-04       1   1.0\n",
       "2021-10-05       1   1.0\n",
       "2021-10-06       1   0.0\n",
       "2021-10-07       1   0.0\n",
       "2021-10-08       1   1.0\n",
       "2021-10-09       1   1.0\n",
       "2021-10-10       1   1.0\n",
       "2021-10-11       1   0.0\n",
       "2021-10-12       1   1.0\n",
       "2021-10-13       1   1.0\n",
       "2021-10-14       1   0.0\n",
       "2021-10-15       0   0.0\n",
       "2021-10-16       0   0.0"
      ]
     },
     "execution_count": 238,
     "metadata": {},
     "output_type": "execute_result"
    }
   ],
   "source": [
    "df1.tail(20)"
   ]
  }
 ],
 "metadata": {
  "kernelspec": {
   "display_name": "Python 3",
   "language": "python",
   "name": "python3"
  },
  "language_info": {
   "codemirror_mode": {
    "name": "ipython",
    "version": 3
   },
   "file_extension": ".py",
   "mimetype": "text/x-python",
   "name": "python",
   "nbconvert_exporter": "python",
   "pygments_lexer": "ipython3",
   "version": "3.7.11"
  }
 },
 "nbformat": 4,
 "nbformat_minor": 5
}
