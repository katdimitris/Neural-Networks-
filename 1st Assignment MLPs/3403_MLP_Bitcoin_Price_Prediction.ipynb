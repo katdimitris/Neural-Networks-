{
 "cells": [
  {
   "cell_type": "code",
   "execution_count": 24,
   "id": "82039f09",
   "metadata": {},
   "outputs": [],
   "source": [
    "import pandas as pd\n",
    "import numpy as np\n",
    "import matplotlib.pyplot as plt\n",
    "import seaborn as sns\n",
    "from tqdm.notebook import tqdm\n",
    "import datetime\n",
    "sns.set()\n",
    "\n",
    "import torch\n",
    "import torch.nn as nn\n",
    "from torch.utils.data import Dataset, DataLoader\n",
    "import torch.utils.data as data_utils\n",
    "\n",
    "from sklearn.preprocessing import MinMaxScaler\n",
    "from sklearn.preprocessing import StandardScaler    \n",
    "from sklearn.model_selection import train_test_split\n",
    "from sklearn.metrics import confusion_matrix, classification_report\n",
    "from sklearn.neighbors import KNeighborsClassifier"
   ]
  },
  {
   "cell_type": "markdown",
   "id": "32d9c515",
   "metadata": {},
   "source": [
    "# Data Preprocessing"
   ]
  },
  {
   "cell_type": "markdown",
   "id": "53ea15a5",
   "metadata": {},
   "source": [
    "## Import Sentiment and Price Data for Bitcoin"
   ]
  },
  {
   "cell_type": "code",
   "execution_count": 2,
   "id": "1fc1fb62",
   "metadata": {},
   "outputs": [],
   "source": [
    "#load dataset\n",
    "df = pd.read_csv(\"cryptodata/btc_reddit.csv\")\n",
    "#Drop irrelevant columns\n",
    "df = df.drop(['cryptoId','start','count','duration','open', 'high', 'low', 'source', 'average', 'std','negative','positive'], axis=1)"
   ]
  },
  {
   "cell_type": "markdown",
   "id": "658a2061",
   "metadata": {},
   "source": [
    "## Label the data according to their future 10 day price change"
   ]
  },
  {
   "cell_type": "code",
   "execution_count": 3,
   "id": "c39ad61b",
   "metadata": {},
   "outputs": [],
   "source": [
    "#labeling function: 1=BUY, 0=HOLD, -1=SELL\n",
    "def label(x):\n",
    "    if x > 0.03: \n",
    "        return 2 #BUY\n",
    "    elif x < -0.03: \n",
    "        return 0 #SELL`\n",
    "    else:\n",
    "        return 1 #HOLD"
   ]
  },
  {
   "cell_type": "markdown",
   "id": "50ddc13f",
   "metadata": {},
   "source": [
    "## Add new features "
   ]
  },
  {
   "cell_type": "markdown",
   "id": "167935b9",
   "metadata": {},
   "source": [
    "### First approach: \n",
    "#### -We have 3 main sources of historical information: Price, Volume and Sentiment score.\n",
    "#### -For each one of these, we create 4 moving averages which indicate their trend respectively (for the previous  3,7,10 and 30 days).\n",
    "#### -So, we have 12 features in total."
   ]
  },
  {
   "cell_type": "code",
   "execution_count": 4,
   "id": "43254290",
   "metadata": {},
   "outputs": [],
   "source": [
    "#Create the sentiment score moving averages (trends)\n",
    "df['3_day_score_average'] = df['score'].rolling(window=3).mean()\n",
    "df['7_day_score_average'] = df['score'].rolling(window=7).mean()\n",
    "df['14_day_score_average'] = df['score'].rolling(window=10).mean()\n",
    "df['30_day_score_average'] = df['score'].rolling(window=30).mean()\n",
    "\n",
    "#Create the btc closing price moving averages (trends)\n",
    "df['3_day_price_average'] = df['close'].rolling(window=3).mean()\n",
    "df['7_day_price_average'] = df['close'].rolling(window=7).mean()\n",
    "df['14_day_price_average'] = df['close'].rolling(window=10).mean()\n",
    "df['30_day_price_average'] = df['close'].rolling(window=30).mean()\n",
    "\n",
    "#Create the btc daily volume moving averages (trends)\n",
    "df['3_day_volume_average'] = df['volumeUSD'].rolling(window=3).mean()\n",
    "df['7_day_volume_average'] = df['volumeUSD'].rolling(window=7).mean()\n",
    "df['14_day_volume_average'] = df['volumeUSD'].rolling(window=10).mean()\n",
    "df['30_day_volume_average'] = df['volumeUSD'].rolling(window=30).mean()\n",
    "\n",
    "#Apply the labels\n",
    "df['10_day_future_price_change'] = df['close'].pct_change(periods=-10)*-1\n",
    "df['label'] = df['10_day_future_price_change'].apply(label)\n",
    "\n",
    "#Drop columns that won't be used as inputs\n",
    "df = df.drop(['score', 'close', 'volumeUSD', '10_day_future_price_change'], axis=1)\n",
    "\n",
    "#Drop nan values\n",
    "df.dropna(inplace=True)\n",
    "\n",
    "features = df.drop('label', axis=1)\n",
    "target = df['label']"
   ]
  },
  {
   "cell_type": "markdown",
   "id": "e19df0c6",
   "metadata": {},
   "source": [
    "### Second Approach\n",
    "#### Using PCA to extract the two most principal components from each of the three features\n",
    "#### 6 features in total: trend_1, trend_2, volume_1, volume_2, score_1, score_2"
   ]
  },
  {
   "cell_type": "code",
   "execution_count": 5,
   "id": "18b151cc",
   "metadata": {},
   "outputs": [
    {
     "data": {
      "text/plain": [
       "\"\\ndf_close = pd.DataFrame(df['close'])\\ndf_score = pd.DataFrame(df['score'])\\ndf_volume = pd.DataFrame(df['volumeUSD'])\\n\\nfor window in range(1,30):\\n    df_close[f'close_ma_{window}'] = df_close['close'].rolling(window=window).mean()\\ndf_close.dropna(inplace=True)\\n\\nfor window in range(1,30):\\n    df_score[f'score_ma_{window}'] = df['score'].rolling(window=window).mean()\\ndf_score.dropna(inplace=True)\\n\\nfor window in range(1,30):\\n    df_volume[f'volume_ma_{window}'] = df['volumeUSD'].rolling(window=window).mean()\\ndf_volume.dropna(inplace=True)\\n\\ndf = df.iloc[28:]\\ndf.reset_index(inplace=True)\\ndf.drop(['index','score'], axis=1, inplace=True)\\n\\nfrom sklearn.decomposition import PCA\\n\\npca = PCA(n_components=2)\\nprincipalComponents_close = pca.fit_transform(df_close)\\nprincipal_close_df = pd.DataFrame(data = principalComponents_close, columns = ['trend_1', 'trend_2'])\\n\\npca = PCA(n_components=2)\\nprincipalComponents_volume = pca.fit_transform(df_volume)\\nprincipal_volume_df = pd.DataFrame(data = principalComponents_volume, columns = ['volume_1', 'volume_2'])\\n\\npca = PCA(n_components=2)\\nprincipalComponents_score = pca.fit_transform(df_score)\\nprincipal_score_df = pd.DataFrame(data = principalComponents_score, columns = ['score_1', 'score_2'])\\n                                                                        \\n\\nfeatures = pd.merge(principal_close_df, principal_score_df, left_index=True, right_index=True)\\nfeatures = pd.merge(features, principal_volume_df, left_index=True, right_index=True)\\n\\n\\nfeatures = pd.merge(principal_close_df, principal_volume_df , left_index=True, right_index=True)\\nfeatures = pd.merge(features, principal_score_df, left_index=True, right_index=True)\\nfeatures.dropna(inplace=True)\\n\\ndf['10_day_future_price_change'] = df['close'].pct_change(periods=-10) *-1\\ntarget = df['10_day_future_price_change'].apply(label)\\n\""
      ]
     },
     "execution_count": 5,
     "metadata": {},
     "output_type": "execute_result"
    }
   ],
   "source": [
    "'''\n",
    "df_close = pd.DataFrame(df['close'])\n",
    "df_score = pd.DataFrame(df['score'])\n",
    "df_volume = pd.DataFrame(df['volumeUSD'])\n",
    "\n",
    "for window in range(1,30):\n",
    "    df_close[f'close_ma_{window}'] = df_close['close'].rolling(window=window).mean()\n",
    "df_close.dropna(inplace=True)\n",
    "\n",
    "for window in range(1,30):\n",
    "    df_score[f'score_ma_{window}'] = df['score'].rolling(window=window).mean()\n",
    "df_score.dropna(inplace=True)\n",
    "\n",
    "for window in range(1,30):\n",
    "    df_volume[f'volume_ma_{window}'] = df['volumeUSD'].rolling(window=window).mean()\n",
    "df_volume.dropna(inplace=True)\n",
    "\n",
    "df = df.iloc[28:]\n",
    "df.reset_index(inplace=True)\n",
    "df.drop(['index','score'], axis=1, inplace=True)\n",
    "\n",
    "from sklearn.decomposition import PCA\n",
    "\n",
    "pca = PCA(n_components=2)\n",
    "principalComponents_close = pca.fit_transform(df_close)\n",
    "principal_close_df = pd.DataFrame(data = principalComponents_close, columns = ['trend_1', 'trend_2'])\n",
    "\n",
    "pca = PCA(n_components=2)\n",
    "principalComponents_volume = pca.fit_transform(df_volume)\n",
    "principal_volume_df = pd.DataFrame(data = principalComponents_volume, columns = ['volume_1', 'volume_2'])\n",
    "\n",
    "pca = PCA(n_components=2)\n",
    "principalComponents_score = pca.fit_transform(df_score)\n",
    "principal_score_df = pd.DataFrame(data = principalComponents_score, columns = ['score_1', 'score_2'])\n",
    "                                                                        \n",
    "\n",
    "features = pd.merge(principal_close_df, principal_score_df, left_index=True, right_index=True)\n",
    "features = pd.merge(features, principal_volume_df, left_index=True, right_index=True)\n",
    "\n",
    "\n",
    "features = pd.merge(principal_close_df, principal_volume_df , left_index=True, right_index=True)\n",
    "features = pd.merge(features, principal_score_df, left_index=True, right_index=True)\n",
    "features.dropna(inplace=True)\n",
    "\n",
    "df['10_day_future_price_change'] = df['close'].pct_change(periods=-10) *-1\n",
    "target = df['10_day_future_price_change'].apply(label)\n",
    "'''"
   ]
  },
  {
   "cell_type": "markdown",
   "id": "d85ae9b1",
   "metadata": {},
   "source": [
    "## Create Train/Test split and normalize input features"
   ]
  },
  {
   "cell_type": "code",
   "execution_count": 6,
   "id": "1b0a70f4",
   "metadata": {},
   "outputs": [],
   "source": [
    "# Split into train+val and test\n",
    "X_trainval, X_test, y_trainval, y_test = train_test_split(features, target, \n",
    "                                        test_size=0.3, shuffle=True)\n",
    "\n",
    "# Split train into train-val\n",
    "X_train, X_val, y_train, y_val = train_test_split(X_trainval, y_trainval, \n",
    "                                        test_size=0.3, shuffle=True)"
   ]
  },
  {
   "cell_type": "code",
   "execution_count": 7,
   "id": "fc718f48",
   "metadata": {},
   "outputs": [],
   "source": [
    "#normalize X_train and X_test using StandarScaler()\n",
    "scaler = StandardScaler()\n",
    "X_train = scaler.fit_transform(X_train)\n",
    "X_val = scaler.transform(X_val)\n",
    "X_test = scaler.transform(X_test)\n",
    "X_train, y_train = np.array(X_train), np.array(y_train)\n",
    "X_val, y_val = np.array(X_val), np.array(y_val)\n",
    "X_test, y_test = np.array(X_test), np.array(y_test)"
   ]
  },
  {
   "cell_type": "markdown",
   "id": "4e679c37",
   "metadata": {},
   "source": [
    "## Visualize the class distribution in train/validation/test sets"
   ]
  },
  {
   "cell_type": "code",
   "execution_count": 8,
   "id": "a2862cc1",
   "metadata": {},
   "outputs": [],
   "source": [
    "def get_class_distribution(obj):\n",
    "    count_dict = {\n",
    "        \"BUY\": 0,\n",
    "        \"HOLD\": 0,\n",
    "        \"SELL\": 0,\n",
    "    }\n",
    "    \n",
    "    for i in obj:\n",
    "        if i == 0: \n",
    "            count_dict['SELL'] += 1\n",
    "        elif i == 1: \n",
    "            count_dict['HOLD'] += 1\n",
    "        elif i == 2: \n",
    "            count_dict['BUY'] += 1\n",
    "            \n",
    "    return count_dict"
   ]
  },
  {
   "cell_type": "code",
   "execution_count": 25,
   "id": "78bf0ede",
   "metadata": {},
   "outputs": [
    {
     "data": {
      "text/plain": [
       "Text(0.5, 1.0, 'Class Distribution in Test Set')"
      ]
     },
     "execution_count": 25,
     "metadata": {},
     "output_type": "execute_result"
    },
    {
     "data": {
      "image/png": "[encoded data removed]",
      "text/plain": [
       "<Figure size 1440x504 with 3 Axes>"
      ]
     },
     "metadata": {},
     "output_type": "display_data"
    }
   ],
   "source": [
    "fig, axes = plt.subplots(nrows=1, ncols=3, figsize=(20,7))\n",
    "\n",
    "# Train\n",
    "sns.barplot(data = pd.DataFrame.from_dict([get_class_distribution(y_train)]).melt(), \n",
    "            x = \"variable\", y=\"value\", hue=\"variable\", ax=axes[0]).set_title('Class Distribution in Train Set', fontsize=16)\n",
    "\n",
    "# Validation\n",
    "sns.barplot(data = pd.DataFrame.from_dict([get_class_distribution(y_val)]).melt(), \n",
    "            x = \"variable\", y=\"value\", hue=\"variable\",  ax=axes[1]).set_title('Class Distribution in Val Set')\n",
    "\n",
    "# Test\n",
    "sns.barplot(data = pd.DataFrame.from_dict([get_class_distribution(y_test)]).melt(), \n",
    "            x = \"variable\", y=\"value\", hue=\"variable\", ax=axes[2]).set_title('Class Distribution in Test Set', fontsize=16)\n"
   ]
  },
  {
   "cell_type": "markdown",
   "id": "58e72878",
   "metadata": {},
   "source": [
    "# Neural Network"
   ]
  },
  {
   "cell_type": "markdown",
   "id": "d4d14920",
   "metadata": {},
   "source": [
    "### Model Parameters"
   ]
  },
  {
   "cell_type": "code",
   "execution_count": 10,
   "id": "a3f3ace2",
   "metadata": {},
   "outputs": [],
   "source": [
    "EPOCHS = 200\n",
    "BATCH_SIZE = 64\n",
    "LEARNING_RATE = 0.01\n",
    "NUM_FEATURES = 12\n",
    "NUM_CLASSES = 3"
   ]
  },
  {
   "cell_type": "markdown",
   "id": "8dfa78f6",
   "metadata": {},
   "source": [
    "### Custom Dataset"
   ]
  },
  {
   "cell_type": "code",
   "execution_count": 11,
   "id": "e2fd7548",
   "metadata": {},
   "outputs": [],
   "source": [
    "class ClassifierDataset(Dataset):\n",
    "    \n",
    "    def __init__(self, X_data, y_data):\n",
    "        self.X_data = X_data\n",
    "        self.y_data = y_data\n",
    "        \n",
    "    def __getitem__(self, index):\n",
    "        return self.X_data[index], self.y_data[index]\n",
    "        \n",
    "    def __len__ (self):\n",
    "        return len(self.X_data)\n",
    "    \n",
    "train_dataset = ClassifierDataset(torch.from_numpy(X_train).float(), torch.from_numpy(y_train).long())\n",
    "val_dataset = ClassifierDataset(torch.from_numpy(X_val).float(), torch.from_numpy(y_val).long())\n",
    "test_dataset = ClassifierDataset(torch.from_numpy(X_test).float(), torch.from_numpy(y_test).long())"
   ]
  },
  {
   "cell_type": "markdown",
   "id": "485d9ae3",
   "metadata": {},
   "source": [
    "### Dataloader"
   ]
  },
  {
   "cell_type": "code",
   "execution_count": 12,
   "id": "48b95168",
   "metadata": {},
   "outputs": [],
   "source": [
    "train_loader = DataLoader(dataset=train_dataset, batch_size=BATCH_SIZE)\n",
    "val_loader = DataLoader(dataset=val_dataset, batch_size=1)\n",
    "test_loader = DataLoader(dataset=test_dataset, batch_size=1)"
   ]
  },
  {
   "cell_type": "markdown",
   "id": "c83936b5",
   "metadata": {},
   "source": [
    "### Define Neural Net Architecture"
   ]
  },
  {
   "cell_type": "code",
   "execution_count": 13,
   "id": "85403eff",
   "metadata": {},
   "outputs": [],
   "source": [
    "class MulticlassClassification(nn.Module):\n",
    "    def __init__(self, num_feature, num_class):\n",
    "        super(MulticlassClassification, self).__init__()\n",
    "        \n",
    "        self.layer_1 = nn.Linear(num_feature, 100)\n",
    "        self.layer_2 = nn.Linear(100, 100)\n",
    "        self.layer_3 = nn.Linear(100, 100)\n",
    "        \n",
    "        self.layer_out = nn.Linear(100, num_class) \n",
    "        \n",
    "        self.relu = nn.ReLU()\n",
    "        self.tanh = nn.Tanh()\n",
    "        self.dropout = nn.Dropout(p=0.2)\n",
    "        self.batchnorm = nn.BatchNorm1d(100)\n",
    "        \n",
    "        \n",
    "    def forward(self, x):\n",
    "        x = self.layer_1(x)\n",
    "        x = self.batchnorm(x)\n",
    "        x = self.relu(x)\n",
    "        x = self.dropout(x)\n",
    "        \n",
    "        x = self.layer_2(x)\n",
    "        x = self.batchnorm(x)\n",
    "        x = self.relu(x)\n",
    "        x = self.dropout(x)\n",
    "        \n",
    "        x = self.layer_3(x)\n",
    "        x = self.batchnorm(x)\n",
    "        x = self.relu(x)\n",
    "        x = self.dropout(x)\n",
    "        \n",
    "        x = self.layer_out(x)\n",
    "        \n",
    "        return x"
   ]
  },
  {
   "cell_type": "code",
   "execution_count": 14,
   "id": "d0b57cd6",
   "metadata": {},
   "outputs": [],
   "source": [
    "#setting device to gpu\n",
    "#device = torch.device(\"cuda:0\" if torch.cuda.is_available() else \"cpu\")\n",
    "device=\"cpu\""
   ]
  },
  {
   "cell_type": "code",
   "execution_count": 15,
   "id": "dabfb9f2",
   "metadata": {},
   "outputs": [],
   "source": [
    "model = MulticlassClassification(num_feature = NUM_FEATURES, num_class=NUM_CLASSES)\n",
    "model.to(device)\n",
    "\n",
    "criterion = nn.CrossEntropyLoss()\n",
    "optimizer = torch.optim.SGD(model.parameters(), lr=LEARNING_RATE)"
   ]
  },
  {
   "cell_type": "markdown",
   "id": "f28b606e",
   "metadata": {},
   "source": [
    "### Train our model"
   ]
  },
  {
   "cell_type": "code",
   "execution_count": 16,
   "id": "2f48f418",
   "metadata": {},
   "outputs": [],
   "source": [
    "def multi_acc(y_pred, y_test):\n",
    "    y_pred_softmax = torch.log_softmax(y_pred, dim = 1)\n",
    "    _, y_pred_tags = torch.max(y_pred_softmax, dim = 1)    \n",
    "    \n",
    "    correct_pred = (y_pred_tags == y_test).float()\n",
    "    acc = correct_pred.sum() / len(correct_pred)\n",
    "    \n",
    "    acc = torch.round(acc * 100)\n",
    "    \n",
    "    return acc"
   ]
  },
  {
   "cell_type": "code",
   "execution_count": 17,
   "id": "41791fc0",
   "metadata": {},
   "outputs": [],
   "source": [
    "# Define dictionaries to store accuracy/epoch and loss/epoch for trainset\n",
    "accuracy_stats = {\n",
    "    'train': [],\n",
    "    \"val\": []\n",
    "}\n",
    "loss_stats = {\n",
    "    'train': [],\n",
    "    \"val\": []\n",
    "}"
   ]
  },
  {
   "cell_type": "code",
   "execution_count": 18,
   "id": "5dc1e46d",
   "metadata": {},
   "outputs": [
    {
     "name": "stdout",
     "output_type": "stream",
     "text": [
      "Begin training.\n"
     ]
    },
    {
     "data": {
      "application/vnd.jupyter.widget-view+json": {
       "model_id": "a54bc66fe23344fdb3ed8b1f2d60972c",
       "version_major": 2,
       "version_minor": 0
      },
      "text/plain": [
       "  0%|          | 0/200 [00:00<?, ?it/s]"
      ]
     },
     "metadata": {},
     "output_type": "display_data"
    },
    {
     "name": "stdout",
     "output_type": "stream",
     "text": [
      "Epoch 001: | Train Loss: 1.16307 | Val Loss: 1.08907 | Train Acc: 31.000| Val Acc: 38.028\n",
      "Epoch 002: | Train Loss: 1.19599 | Val Loss: 1.07969 | Train Acc: 26.333| Val Acc: 33.803\n",
      "Epoch 003: | Train Loss: 1.08390 | Val Loss: 1.06885 | Train Acc: 37.000| Val Acc: 36.620\n",
      "Epoch 004: | Train Loss: 1.05395 | Val Loss: 1.05736 | Train Acc: 43.333| Val Acc: 36.620\n",
      "Epoch 005: | Train Loss: 1.05766 | Val Loss: 1.04697 | Train Acc: 41.333| Val Acc: 35.211\n",
      "Epoch 006: | Train Loss: 1.07709 | Val Loss: 1.04536 | Train Acc: 39.000| Val Acc: 36.620\n",
      "Epoch 007: | Train Loss: 1.06520 | Val Loss: 1.03559 | Train Acc: 38.333| Val Acc: 35.211\n",
      "Epoch 008: | Train Loss: 1.07253 | Val Loss: 1.03083 | Train Acc: 46.333| Val Acc: 35.211\n",
      "Epoch 009: | Train Loss: 1.05308 | Val Loss: 1.02347 | Train Acc: 49.667| Val Acc: 36.620\n",
      "Epoch 010: | Train Loss: 1.05872 | Val Loss: 1.01156 | Train Acc: 43.333| Val Acc: 39.437\n",
      "Epoch 011: | Train Loss: 1.01047 | Val Loss: 1.00369 | Train Acc: 50.667| Val Acc: 42.254\n",
      "Epoch 012: | Train Loss: 0.98526 | Val Loss: 0.99581 | Train Acc: 54.667| Val Acc: 42.254\n",
      "Epoch 013: | Train Loss: 1.00910 | Val Loss: 0.99046 | Train Acc: 50.000| Val Acc: 43.662\n",
      "Epoch 014: | Train Loss: 1.01712 | Val Loss: 0.99073 | Train Acc: 47.333| Val Acc: 42.254\n",
      "Epoch 015: | Train Loss: 1.04495 | Val Loss: 0.98593 | Train Acc: 44.333| Val Acc: 42.254\n",
      "Epoch 016: | Train Loss: 0.97245 | Val Loss: 0.98201 | Train Acc: 49.333| Val Acc: 42.254\n",
      "Epoch 017: | Train Loss: 1.01544 | Val Loss: 0.97702 | Train Acc: 50.667| Val Acc: 40.845\n",
      "Epoch 018: | Train Loss: 0.99916 | Val Loss: 0.97405 | Train Acc: 47.000| Val Acc: 40.845\n",
      "Epoch 019: | Train Loss: 0.95102 | Val Loss: 0.97431 | Train Acc: 57.667| Val Acc: 43.662\n",
      "Epoch 020: | Train Loss: 0.96209 | Val Loss: 0.97386 | Train Acc: 53.000| Val Acc: 43.662\n",
      "Epoch 021: | Train Loss: 0.97540 | Val Loss: 0.97411 | Train Acc: 51.667| Val Acc: 43.662\n",
      "Epoch 022: | Train Loss: 0.97175 | Val Loss: 0.97468 | Train Acc: 54.333| Val Acc: 43.662\n",
      "Epoch 023: | Train Loss: 0.93913 | Val Loss: 0.96789 | Train Acc: 58.667| Val Acc: 45.070\n",
      "Epoch 024: | Train Loss: 0.94667 | Val Loss: 0.96819 | Train Acc: 56.333| Val Acc: 46.479\n",
      "Epoch 025: | Train Loss: 0.92271 | Val Loss: 0.96958 | Train Acc: 56.333| Val Acc: 45.070\n",
      "Epoch 026: | Train Loss: 0.94998 | Val Loss: 0.96218 | Train Acc: 53.333| Val Acc: 45.070\n",
      "Epoch 027: | Train Loss: 0.95062 | Val Loss: 0.95617 | Train Acc: 53.667| Val Acc: 46.479\n",
      "Epoch 028: | Train Loss: 0.96060 | Val Loss: 0.95351 | Train Acc: 51.000| Val Acc: 46.479\n",
      "Epoch 029: | Train Loss: 0.95129 | Val Loss: 0.94615 | Train Acc: 52.667| Val Acc: 49.296\n",
      "Epoch 030: | Train Loss: 0.91239 | Val Loss: 0.94720 | Train Acc: 59.667| Val Acc: 47.887\n",
      "Epoch 031: | Train Loss: 0.88219 | Val Loss: 0.94513 | Train Acc: 59.333| Val Acc: 49.296\n",
      "Epoch 032: | Train Loss: 0.93162 | Val Loss: 0.94313 | Train Acc: 53.000| Val Acc: 54.930\n",
      "Epoch 033: | Train Loss: 0.89089 | Val Loss: 0.94713 | Train Acc: 65.000| Val Acc: 50.704\n",
      "Epoch 034: | Train Loss: 0.91893 | Val Loss: 0.93963 | Train Acc: 57.333| Val Acc: 47.887\n",
      "Epoch 035: | Train Loss: 0.90718 | Val Loss: 0.93897 | Train Acc: 57.000| Val Acc: 52.113\n",
      "Epoch 036: | Train Loss: 0.89188 | Val Loss: 0.93283 | Train Acc: 56.333| Val Acc: 57.746\n",
      "Epoch 037: | Train Loss: 0.88798 | Val Loss: 0.93122 | Train Acc: 55.000| Val Acc: 57.746\n",
      "Epoch 038: | Train Loss: 0.91359 | Val Loss: 0.92937 | Train Acc: 56.000| Val Acc: 57.746\n",
      "Epoch 039: | Train Loss: 0.91047 | Val Loss: 0.93202 | Train Acc: 59.667| Val Acc: 54.930\n",
      "Epoch 040: | Train Loss: 0.86826 | Val Loss: 0.92873 | Train Acc: 60.667| Val Acc: 57.746\n",
      "Epoch 041: | Train Loss: 0.90637 | Val Loss: 0.93228 | Train Acc: 58.667| Val Acc: 53.521\n",
      "Epoch 042: | Train Loss: 0.90456 | Val Loss: 0.92659 | Train Acc: 57.000| Val Acc: 57.746\n",
      "Epoch 043: | Train Loss: 0.87008 | Val Loss: 0.92709 | Train Acc: 60.000| Val Acc: 59.155\n",
      "Epoch 044: | Train Loss: 0.86535 | Val Loss: 0.92758 | Train Acc: 60.333| Val Acc: 53.521\n",
      "Epoch 045: | Train Loss: 0.88223 | Val Loss: 0.92493 | Train Acc: 58.333| Val Acc: 59.155\n",
      "Epoch 046: | Train Loss: 0.91219 | Val Loss: 0.91831 | Train Acc: 57.667| Val Acc: 61.972\n",
      "Epoch 047: | Train Loss: 0.89499 | Val Loss: 0.91563 | Train Acc: 57.667| Val Acc: 61.972\n",
      "Epoch 048: | Train Loss: 0.85620 | Val Loss: 0.91727 | Train Acc: 61.333| Val Acc: 61.972\n",
      "Epoch 049: | Train Loss: 0.84607 | Val Loss: 0.91556 | Train Acc: 60.333| Val Acc: 61.972\n",
      "Epoch 050: | Train Loss: 0.86599 | Val Loss: 0.90971 | Train Acc: 61.333| Val Acc: 63.380\n",
      "Epoch 051: | Train Loss: 0.85609 | Val Loss: 0.91118 | Train Acc: 63.000| Val Acc: 63.380\n",
      "Epoch 052: | Train Loss: 0.86758 | Val Loss: 0.91023 | Train Acc: 55.667| Val Acc: 61.972\n",
      "Epoch 053: | Train Loss: 0.84757 | Val Loss: 0.91108 | Train Acc: 59.333| Val Acc: 61.972\n",
      "Epoch 054: | Train Loss: 0.86335 | Val Loss: 0.91158 | Train Acc: 60.667| Val Acc: 61.972\n",
      "Epoch 055: | Train Loss: 0.88986 | Val Loss: 0.90965 | Train Acc: 55.667| Val Acc: 60.563\n",
      "Epoch 056: | Train Loss: 0.83819 | Val Loss: 0.90939 | Train Acc: 61.333| Val Acc: 60.563\n",
      "Epoch 057: | Train Loss: 0.84246 | Val Loss: 0.90626 | Train Acc: 58.000| Val Acc: 61.972\n",
      "Epoch 058: | Train Loss: 0.88653 | Val Loss: 0.90973 | Train Acc: 57.333| Val Acc: 61.972\n",
      "Epoch 059: | Train Loss: 0.84508 | Val Loss: 0.90330 | Train Acc: 62.667| Val Acc: 61.972\n",
      "Epoch 060: | Train Loss: 0.86610 | Val Loss: 0.89814 | Train Acc: 56.667| Val Acc: 61.972\n",
      "Epoch 061: | Train Loss: 0.86945 | Val Loss: 0.90033 | Train Acc: 58.333| Val Acc: 59.155\n",
      "Epoch 062: | Train Loss: 0.84173 | Val Loss: 0.89790 | Train Acc: 64.667| Val Acc: 59.155\n",
      "Epoch 063: | Train Loss: 0.82829 | Val Loss: 0.89175 | Train Acc: 63.000| Val Acc: 59.155\n",
      "Epoch 064: | Train Loss: 0.84391 | Val Loss: 0.89082 | Train Acc: 64.333| Val Acc: 59.155\n",
      "Epoch 065: | Train Loss: 0.82467 | Val Loss: 0.89519 | Train Acc: 64.667| Val Acc: 57.746\n",
      "Epoch 066: | Train Loss: 0.86063 | Val Loss: 0.89386 | Train Acc: 55.000| Val Acc: 57.746\n",
      "Epoch 067: | Train Loss: 0.79009 | Val Loss: 0.88926 | Train Acc: 65.000| Val Acc: 59.155\n",
      "Epoch 068: | Train Loss: 0.79088 | Val Loss: 0.88949 | Train Acc: 62.000| Val Acc: 57.746\n",
      "Epoch 069: | Train Loss: 0.84542 | Val Loss: 0.89160 | Train Acc: 62.333| Val Acc: 57.746\n",
      "Epoch 070: | Train Loss: 0.78154 | Val Loss: 0.88366 | Train Acc: 67.333| Val Acc: 56.338\n",
      "Epoch 071: | Train Loss: 0.80844 | Val Loss: 0.88388 | Train Acc: 62.333| Val Acc: 59.155\n",
      "Epoch 072: | Train Loss: 0.82611 | Val Loss: 0.88372 | Train Acc: 66.667| Val Acc: 54.930\n",
      "Epoch 073: | Train Loss: 0.79244 | Val Loss: 0.88128 | Train Acc: 67.000| Val Acc: 57.746\n",
      "Epoch 074: | Train Loss: 0.80213 | Val Loss: 0.88190 | Train Acc: 58.667| Val Acc: 57.746\n",
      "Epoch 075: | Train Loss: 0.77944 | Val Loss: 0.88200 | Train Acc: 65.667| Val Acc: 56.338\n",
      "Epoch 076: | Train Loss: 0.81000 | Val Loss: 0.87773 | Train Acc: 64.333| Val Acc: 57.746\n",
      "Epoch 077: | Train Loss: 0.80081 | Val Loss: 0.87901 | Train Acc: 63.667| Val Acc: 54.930\n",
      "Epoch 078: | Train Loss: 0.77214 | Val Loss: 0.87905 | Train Acc: 67.000| Val Acc: 56.338\n",
      "Epoch 079: | Train Loss: 0.84701 | Val Loss: 0.87753 | Train Acc: 61.000| Val Acc: 54.930\n",
      "Epoch 080: | Train Loss: 0.76568 | Val Loss: 0.87847 | Train Acc: 68.667| Val Acc: 56.338\n",
      "Epoch 081: | Train Loss: 0.81181 | Val Loss: 0.87719 | Train Acc: 62.000| Val Acc: 56.338\n",
      "Epoch 082: | Train Loss: 0.77756 | Val Loss: 0.87426 | Train Acc: 64.000| Val Acc: 54.930\n",
      "Epoch 083: | Train Loss: 0.76639 | Val Loss: 0.87426 | Train Acc: 65.000| Val Acc: 54.930\n",
      "Epoch 084: | Train Loss: 0.80572 | Val Loss: 0.87088 | Train Acc: 63.000| Val Acc: 56.338\n",
      "Epoch 085: | Train Loss: 0.77252 | Val Loss: 0.86920 | Train Acc: 64.000| Val Acc: 54.930\n",
      "Epoch 086: | Train Loss: 0.78895 | Val Loss: 0.87181 | Train Acc: 65.667| Val Acc: 56.338\n",
      "Epoch 087: | Train Loss: 0.78772 | Val Loss: 0.87295 | Train Acc: 60.667| Val Acc: 56.338\n",
      "Epoch 088: | Train Loss: 0.75949 | Val Loss: 0.87438 | Train Acc: 68.000| Val Acc: 57.746\n",
      "Epoch 089: | Train Loss: 0.80626 | Val Loss: 0.87141 | Train Acc: 60.333| Val Acc: 57.746\n",
      "Epoch 090: | Train Loss: 0.76644 | Val Loss: 0.87047 | Train Acc: 65.000| Val Acc: 56.338\n",
      "Epoch 091: | Train Loss: 0.79765 | Val Loss: 0.86862 | Train Acc: 63.333| Val Acc: 54.930\n",
      "Epoch 092: | Train Loss: 0.74861 | Val Loss: 0.86463 | Train Acc: 66.333| Val Acc: 56.338\n"
     ]
    },
    {
     "name": "stdout",
     "output_type": "stream",
     "text": [
      "Epoch 093: | Train Loss: 0.78338 | Val Loss: 0.86066 | Train Acc: 65.000| Val Acc: 54.930\n",
      "Epoch 094: | Train Loss: 0.74994 | Val Loss: 0.86366 | Train Acc: 67.000| Val Acc: 56.338\n",
      "Epoch 095: | Train Loss: 0.78487 | Val Loss: 0.86273 | Train Acc: 64.000| Val Acc: 56.338\n",
      "Epoch 096: | Train Loss: 0.77490 | Val Loss: 0.85996 | Train Acc: 65.000| Val Acc: 56.338\n",
      "Epoch 097: | Train Loss: 0.80367 | Val Loss: 0.86009 | Train Acc: 64.667| Val Acc: 56.338\n",
      "Epoch 098: | Train Loss: 0.70411 | Val Loss: 0.85949 | Train Acc: 69.333| Val Acc: 56.338\n",
      "Epoch 099: | Train Loss: 0.74802 | Val Loss: 0.85501 | Train Acc: 67.667| Val Acc: 56.338\n",
      "Epoch 100: | Train Loss: 0.77952 | Val Loss: 0.85203 | Train Acc: 61.000| Val Acc: 56.338\n",
      "Epoch 101: | Train Loss: 0.72043 | Val Loss: 0.85177 | Train Acc: 70.000| Val Acc: 56.338\n",
      "Epoch 102: | Train Loss: 0.74966 | Val Loss: 0.85304 | Train Acc: 61.333| Val Acc: 56.338\n",
      "Epoch 103: | Train Loss: 0.77088 | Val Loss: 0.85493 | Train Acc: 61.667| Val Acc: 56.338\n",
      "Epoch 104: | Train Loss: 0.71389 | Val Loss: 0.85339 | Train Acc: 70.333| Val Acc: 57.746\n",
      "Epoch 105: | Train Loss: 0.73495 | Val Loss: 0.85374 | Train Acc: 64.667| Val Acc: 57.746\n",
      "Epoch 106: | Train Loss: 0.70945 | Val Loss: 0.84926 | Train Acc: 68.333| Val Acc: 57.746\n",
      "Epoch 107: | Train Loss: 0.76589 | Val Loss: 0.84914 | Train Acc: 64.000| Val Acc: 57.746\n",
      "Epoch 108: | Train Loss: 0.73012 | Val Loss: 0.85041 | Train Acc: 67.000| Val Acc: 59.155\n",
      "Epoch 109: | Train Loss: 0.75399 | Val Loss: 0.85359 | Train Acc: 62.667| Val Acc: 59.155\n",
      "Epoch 110: | Train Loss: 0.72204 | Val Loss: 0.85377 | Train Acc: 68.000| Val Acc: 56.338\n",
      "Epoch 111: | Train Loss: 0.69437 | Val Loss: 0.85621 | Train Acc: 68.000| Val Acc: 57.746\n",
      "Epoch 112: | Train Loss: 0.72857 | Val Loss: 0.85221 | Train Acc: 69.333| Val Acc: 57.746\n",
      "Epoch 113: | Train Loss: 0.74412 | Val Loss: 0.84767 | Train Acc: 65.000| Val Acc: 57.746\n",
      "Epoch 114: | Train Loss: 0.75076 | Val Loss: 0.85029 | Train Acc: 63.667| Val Acc: 59.155\n",
      "Epoch 115: | Train Loss: 0.71166 | Val Loss: 0.84426 | Train Acc: 70.000| Val Acc: 57.746\n",
      "Epoch 116: | Train Loss: 0.73470 | Val Loss: 0.84384 | Train Acc: 68.667| Val Acc: 57.746\n",
      "Epoch 117: | Train Loss: 0.74252 | Val Loss: 0.84425 | Train Acc: 64.000| Val Acc: 59.155\n",
      "Epoch 118: | Train Loss: 0.68245 | Val Loss: 0.83968 | Train Acc: 70.333| Val Acc: 57.746\n",
      "Epoch 119: | Train Loss: 0.67827 | Val Loss: 0.83975 | Train Acc: 74.333| Val Acc: 57.746\n",
      "Epoch 120: | Train Loss: 0.68243 | Val Loss: 0.84179 | Train Acc: 71.333| Val Acc: 57.746\n",
      "Epoch 121: | Train Loss: 0.71042 | Val Loss: 0.84492 | Train Acc: 67.333| Val Acc: 57.746\n",
      "Epoch 122: | Train Loss: 0.74150 | Val Loss: 0.84604 | Train Acc: 62.000| Val Acc: 57.746\n",
      "Epoch 123: | Train Loss: 0.70763 | Val Loss: 0.84316 | Train Acc: 65.333| Val Acc: 57.746\n",
      "Epoch 124: | Train Loss: 0.71748 | Val Loss: 0.84233 | Train Acc: 67.000| Val Acc: 57.746\n",
      "Epoch 125: | Train Loss: 0.72191 | Val Loss: 0.83937 | Train Acc: 67.333| Val Acc: 57.746\n",
      "Epoch 126: | Train Loss: 0.71148 | Val Loss: 0.83852 | Train Acc: 66.667| Val Acc: 57.746\n",
      "Epoch 127: | Train Loss: 0.74396 | Val Loss: 0.84162 | Train Acc: 67.000| Val Acc: 57.746\n",
      "Epoch 128: | Train Loss: 0.66653 | Val Loss: 0.83861 | Train Acc: 69.667| Val Acc: 57.746\n",
      "Epoch 129: | Train Loss: 0.66813 | Val Loss: 0.83635 | Train Acc: 73.000| Val Acc: 56.338\n",
      "Epoch 130: | Train Loss: 0.69854 | Val Loss: 0.83405 | Train Acc: 67.333| Val Acc: 57.746\n",
      "Epoch 131: | Train Loss: 0.67845 | Val Loss: 0.83797 | Train Acc: 70.000| Val Acc: 56.338\n",
      "Epoch 132: | Train Loss: 0.69204 | Val Loss: 0.83821 | Train Acc: 71.333| Val Acc: 56.338\n",
      "Epoch 133: | Train Loss: 0.71242 | Val Loss: 0.83615 | Train Acc: 67.000| Val Acc: 56.338\n",
      "Epoch 134: | Train Loss: 0.68307 | Val Loss: 0.83931 | Train Acc: 67.333| Val Acc: 57.746\n",
      "Epoch 135: | Train Loss: 0.69759 | Val Loss: 0.83565 | Train Acc: 70.667| Val Acc: 57.746\n",
      "Epoch 136: | Train Loss: 0.71334 | Val Loss: 0.83519 | Train Acc: 65.000| Val Acc: 56.338\n",
      "Epoch 137: | Train Loss: 0.69197 | Val Loss: 0.83164 | Train Acc: 67.333| Val Acc: 56.338\n",
      "Epoch 138: | Train Loss: 0.65566 | Val Loss: 0.82517 | Train Acc: 71.333| Val Acc: 56.338\n",
      "Epoch 139: | Train Loss: 0.69593 | Val Loss: 0.82787 | Train Acc: 69.667| Val Acc: 56.338\n",
      "Epoch 140: | Train Loss: 0.69331 | Val Loss: 0.82457 | Train Acc: 68.000| Val Acc: 57.746\n",
      "Epoch 141: | Train Loss: 0.66407 | Val Loss: 0.82386 | Train Acc: 73.333| Val Acc: 57.746\n",
      "Epoch 142: | Train Loss: 0.65874 | Val Loss: 0.82365 | Train Acc: 72.333| Val Acc: 57.746\n",
      "Epoch 143: | Train Loss: 0.68935 | Val Loss: 0.82416 | Train Acc: 69.667| Val Acc: 57.746\n",
      "Epoch 144: | Train Loss: 0.66189 | Val Loss: 0.82189 | Train Acc: 74.667| Val Acc: 59.155\n",
      "Epoch 145: | Train Loss: 0.70652 | Val Loss: 0.81599 | Train Acc: 68.667| Val Acc: 59.155\n",
      "Epoch 146: | Train Loss: 0.67584 | Val Loss: 0.81595 | Train Acc: 74.667| Val Acc: 59.155\n",
      "Epoch 147: | Train Loss: 0.69199 | Val Loss: 0.81807 | Train Acc: 65.000| Val Acc: 60.563\n",
      "Epoch 148: | Train Loss: 0.72058 | Val Loss: 0.82602 | Train Acc: 64.333| Val Acc: 57.746\n",
      "Epoch 149: | Train Loss: 0.71558 | Val Loss: 0.82130 | Train Acc: 71.333| Val Acc: 57.746\n",
      "Epoch 150: | Train Loss: 0.62569 | Val Loss: 0.81961 | Train Acc: 70.333| Val Acc: 59.155\n",
      "Epoch 151: | Train Loss: 0.67114 | Val Loss: 0.82091 | Train Acc: 67.667| Val Acc: 57.746\n",
      "Epoch 152: | Train Loss: 0.64252 | Val Loss: 0.82172 | Train Acc: 77.333| Val Acc: 59.155\n",
      "Epoch 153: | Train Loss: 0.68874 | Val Loss: 0.82240 | Train Acc: 71.667| Val Acc: 60.563\n",
      "Epoch 154: | Train Loss: 0.65195 | Val Loss: 0.81918 | Train Acc: 68.000| Val Acc: 61.972\n",
      "Epoch 155: | Train Loss: 0.61676 | Val Loss: 0.81628 | Train Acc: 74.333| Val Acc: 61.972\n",
      "Epoch 156: | Train Loss: 0.62842 | Val Loss: 0.81980 | Train Acc: 77.333| Val Acc: 61.972\n",
      "Epoch 157: | Train Loss: 0.64290 | Val Loss: 0.82163 | Train Acc: 74.333| Val Acc: 57.746\n",
      "Epoch 158: | Train Loss: 0.66506 | Val Loss: 0.81804 | Train Acc: 67.000| Val Acc: 61.972\n",
      "Epoch 159: | Train Loss: 0.65188 | Val Loss: 0.82323 | Train Acc: 71.333| Val Acc: 60.563\n",
      "Epoch 160: | Train Loss: 0.65263 | Val Loss: 0.82411 | Train Acc: 70.000| Val Acc: 59.155\n",
      "Epoch 161: | Train Loss: 0.65103 | Val Loss: 0.81715 | Train Acc: 73.000| Val Acc: 57.746\n",
      "Epoch 162: | Train Loss: 0.61971 | Val Loss: 0.82048 | Train Acc: 75.000| Val Acc: 60.563\n",
      "Epoch 163: | Train Loss: 0.63180 | Val Loss: 0.82066 | Train Acc: 75.667| Val Acc: 61.972\n",
      "Epoch 164: | Train Loss: 0.63994 | Val Loss: 0.81861 | Train Acc: 72.667| Val Acc: 60.563\n",
      "Epoch 165: | Train Loss: 0.60921 | Val Loss: 0.81877 | Train Acc: 74.000| Val Acc: 60.563\n",
      "Epoch 166: | Train Loss: 0.61039 | Val Loss: 0.81479 | Train Acc: 71.333| Val Acc: 60.563\n",
      "Epoch 167: | Train Loss: 0.63276 | Val Loss: 0.81875 | Train Acc: 73.000| Val Acc: 60.563\n",
      "Epoch 168: | Train Loss: 0.64278 | Val Loss: 0.81931 | Train Acc: 70.667| Val Acc: 61.972\n",
      "Epoch 169: | Train Loss: 0.59572 | Val Loss: 0.82004 | Train Acc: 76.000| Val Acc: 60.563\n",
      "Epoch 170: | Train Loss: 0.63837 | Val Loss: 0.82260 | Train Acc: 74.667| Val Acc: 60.563\n",
      "Epoch 171: | Train Loss: 0.63744 | Val Loss: 0.82644 | Train Acc: 71.333| Val Acc: 61.972\n",
      "Epoch 172: | Train Loss: 0.67402 | Val Loss: 0.82313 | Train Acc: 69.667| Val Acc: 60.563\n",
      "Epoch 173: | Train Loss: 0.69866 | Val Loss: 0.82928 | Train Acc: 73.667| Val Acc: 60.563\n",
      "Epoch 174: | Train Loss: 0.62766 | Val Loss: 0.83112 | Train Acc: 71.333| Val Acc: 61.972\n",
      "Epoch 175: | Train Loss: 0.62108 | Val Loss: 0.82142 | Train Acc: 75.333| Val Acc: 61.972\n",
      "Epoch 176: | Train Loss: 0.62736 | Val Loss: 0.81919 | Train Acc: 71.333| Val Acc: 61.972\n",
      "Epoch 177: | Train Loss: 0.59505 | Val Loss: 0.81855 | Train Acc: 77.667| Val Acc: 60.563\n",
      "Epoch 178: | Train Loss: 0.59963 | Val Loss: 0.82021 | Train Acc: 73.333| Val Acc: 59.155\n",
      "Epoch 179: | Train Loss: 0.63200 | Val Loss: 0.82407 | Train Acc: 73.333| Val Acc: 61.972\n",
      "Epoch 180: | Train Loss: 0.63164 | Val Loss: 0.81886 | Train Acc: 72.333| Val Acc: 59.155\n",
      "Epoch 181: | Train Loss: 0.60384 | Val Loss: 0.81377 | Train Acc: 70.667| Val Acc: 59.155\n",
      "Epoch 182: | Train Loss: 0.55509 | Val Loss: 0.81361 | Train Acc: 78.333| Val Acc: 60.563\n",
      "Epoch 183: | Train Loss: 0.67459 | Val Loss: 0.81480 | Train Acc: 67.667| Val Acc: 61.972\n",
      "Epoch 184: | Train Loss: 0.67378 | Val Loss: 0.81771 | Train Acc: 67.667| Val Acc: 61.972\n",
      "Epoch 185: | Train Loss: 0.63894 | Val Loss: 0.81787 | Train Acc: 70.333| Val Acc: 59.155\n"
     ]
    },
    {
     "name": "stdout",
     "output_type": "stream",
     "text": [
      "Epoch 186: | Train Loss: 0.63661 | Val Loss: 0.81255 | Train Acc: 70.667| Val Acc: 60.563\n",
      "Epoch 187: | Train Loss: 0.55023 | Val Loss: 0.80972 | Train Acc: 79.000| Val Acc: 60.563\n",
      "Epoch 188: | Train Loss: 0.58197 | Val Loss: 0.81094 | Train Acc: 76.333| Val Acc: 60.563\n",
      "Epoch 189: | Train Loss: 0.54875 | Val Loss: 0.81109 | Train Acc: 80.667| Val Acc: 60.563\n",
      "Epoch 190: | Train Loss: 0.60269 | Val Loss: 0.80829 | Train Acc: 74.000| Val Acc: 61.972\n",
      "Epoch 191: | Train Loss: 0.58995 | Val Loss: 0.80845 | Train Acc: 74.333| Val Acc: 61.972\n",
      "Epoch 192: | Train Loss: 0.56751 | Val Loss: 0.80824 | Train Acc: 74.000| Val Acc: 60.563\n",
      "Epoch 193: | Train Loss: 0.60352 | Val Loss: 0.80992 | Train Acc: 70.333| Val Acc: 60.563\n",
      "Epoch 194: | Train Loss: 0.64168 | Val Loss: 0.80594 | Train Acc: 72.000| Val Acc: 61.972\n",
      "Epoch 195: | Train Loss: 0.56972 | Val Loss: 0.80269 | Train Acc: 76.667| Val Acc: 61.972\n",
      "Epoch 196: | Train Loss: 0.63246 | Val Loss: 0.80575 | Train Acc: 67.667| Val Acc: 60.563\n",
      "Epoch 197: | Train Loss: 0.56342 | Val Loss: 0.80343 | Train Acc: 78.333| Val Acc: 61.972\n",
      "Epoch 198: | Train Loss: 0.58640 | Val Loss: 0.80490 | Train Acc: 75.000| Val Acc: 60.563\n",
      "Epoch 199: | Train Loss: 0.57162 | Val Loss: 0.80217 | Train Acc: 75.000| Val Acc: 61.972\n",
      "Epoch 200: | Train Loss: 0.58932 | Val Loss: 0.80728 | Train Acc: 70.333| Val Acc: 60.563\n"
     ]
    }
   ],
   "source": [
    "print(\"Begin training.\")\n",
    "for e in tqdm(range(1, EPOCHS+1)):\n",
    "    \n",
    "    # TRAINING\n",
    "    train_epoch_loss = 0\n",
    "    train_epoch_acc = 0\n",
    "    model.train()\n",
    "    for X_train_batch, y_train_batch in train_loader:\n",
    "        X_train_batch, y_train_batch = X_train_batch.to(device), y_train_batch.to(device)\n",
    "        optimizer.zero_grad() \n",
    "        y_train_pred = model(X_train_batch)\n",
    "        \n",
    "        train_loss = criterion(y_train_pred, y_train_batch)\n",
    "        train_acc = multi_acc(y_train_pred, y_train_batch)\n",
    "        \n",
    "        train_loss.backward()\n",
    "        optimizer.step()\n",
    "        \n",
    "        train_epoch_loss += train_loss.item()\n",
    "        train_epoch_acc += train_acc.item()\n",
    "        \n",
    "    # VALIDATION    \n",
    "    with torch.no_grad():\n",
    "        \n",
    "        val_epoch_loss = 0\n",
    "        val_epoch_acc = 0\n",
    "        \n",
    "        model.eval()\n",
    "        for X_val_batch, y_val_batch in val_loader:\n",
    "            X_val_batch, y_val_batch = X_val_batch.to(device), y_val_batch.to(device)\n",
    "            \n",
    "            y_val_pred = model(X_val_batch)\n",
    "                        \n",
    "            val_loss = criterion(y_val_pred, y_val_batch)\n",
    "            val_acc = multi_acc(y_val_pred, y_val_batch)\n",
    "            \n",
    "            val_epoch_loss += val_loss.item()\n",
    "            val_epoch_acc += val_acc.item()\n",
    "    loss_stats['train'].append(train_epoch_loss/len(train_loader))\n",
    "    loss_stats['val'].append(val_epoch_loss/len(val_loader))\n",
    "    accuracy_stats['train'].append(train_epoch_acc/len(train_loader))\n",
    "    accuracy_stats['val'].append(val_epoch_acc/len(val_loader))\n",
    "                              \n",
    "    \n",
    "    print(f'Epoch {e+0:03}: | Train Loss: {train_epoch_loss/len(train_loader):.5f} | Val Loss: {val_epoch_loss/len(val_loader):.5f} | Train Acc: {train_epoch_acc/len(train_loader):.3f}| Val Acc: {val_epoch_acc/len(val_loader):.3f}')\n",
    "\n"
   ]
  },
  {
   "cell_type": "markdown",
   "id": "22bc9d5c",
   "metadata": {},
   "source": [
    "# Visualize Loss and Accuracy"
   ]
  },
  {
   "cell_type": "markdown",
   "id": "e498c8d9",
   "metadata": {},
   "source": [
    "### Compare train and validation set learning curves"
   ]
  },
  {
   "cell_type": "code",
   "execution_count": 26,
   "id": "02d1e71a",
   "metadata": {},
   "outputs": [
    {
     "data": {
      "text/plain": [
       "Text(0.5, 1.0, 'Train-Val Loss/Epoch')"
      ]
     },
     "execution_count": 26,
     "metadata": {},
     "output_type": "execute_result"
    },
    {
     "data": {
      "image/png": "[encoded data removed]",
      "text/plain": [
       "<Figure size 1000x400 with 2 Axes>"
      ]
     },
     "metadata": {},
     "output_type": "display_data"
    }
   ],
   "source": [
    "# Create dataframes\n",
    "train_val_acc_df = pd.DataFrame.from_dict(accuracy_stats).reset_index().melt(id_vars=['index']).rename(columns={\"index\":\"epochs\"})\n",
    "train_val_loss_df = pd.DataFrame.from_dict(loss_stats).reset_index().melt(id_vars=['index']).rename(columns={\"index\":\"epochs\"})\n",
    "# Plot the dataframes\n",
    "fig, axes = plt.subplots(nrows=1, ncols=2, figsize=(10,4), dpi=100)\n",
    "#fig.suptitle(f'Epochs={EPOCHS}, LR={LEARNING_RATE}, BS={BATCH_SIZE}', fontsize=14)\n",
    "fig.suptitle(f'Epochs={EPOCHS}, LR={LEARNING_RATE}, BS={BATCH_SIZE}', fontsize=14)\n",
    "sns.lineplot(data=train_val_acc_df, x = \"epochs\", y=\"value\", hue=\"variable\",  ax=axes[0]).set_title('Train-Val Accuracy/Epoch')\n",
    "sns.lineplot(data=train_val_loss_df, x = \"epochs\", y=\"value\", hue=\"variable\", ax=axes[1]).set_title('Train-Val Loss/Epoch')"
   ]
  },
  {
   "cell_type": "markdown",
   "id": "bf73d092",
   "metadata": {},
   "source": [
    "### Evaluate test results"
   ]
  },
  {
   "cell_type": "code",
   "execution_count": 21,
   "id": "596a079f",
   "metadata": {},
   "outputs": [],
   "source": [
    "y_pred_list = []\n",
    "with torch.no_grad():\n",
    "    model.eval()\n",
    "    for X_batch, _ in test_loader:\n",
    "        X_batch = X_batch.to(device)\n",
    "        y_test_pred = model(X_batch)\n",
    "        _, y_pred_tags = torch.max(y_test_pred, dim = 1)\n",
    "        y_pred_list.append(y_pred_tags.cpu().numpy())\n",
    "y_pred_list = [a.squeeze().tolist() for a in y_pred_list]"
   ]
  },
  {
   "cell_type": "code",
   "execution_count": 22,
   "id": "e7c6d416",
   "metadata": {},
   "outputs": [
    {
     "name": "stdout",
     "output_type": "stream",
     "text": [
      "              precision    recall  f1-score   support\n",
      "\n",
      "           0       0.64      0.85      0.73        27\n",
      "           1       0.95      0.53      0.68        38\n",
      "           2       0.60      0.73      0.66        37\n",
      "\n",
      "    accuracy                           0.69       102\n",
      "   macro avg       0.73      0.70      0.69       102\n",
      "weighted avg       0.74      0.69      0.68       102\n",
      "\n"
     ]
    }
   ],
   "source": [
    "print(classification_report(y_test, y_pred_list))"
   ]
  },
  {
   "cell_type": "code",
   "execution_count": 27,
   "id": "f19b4e36",
   "metadata": {},
   "outputs": [
    {
     "data": {
      "text/plain": [
       "[Text(0.5, 1.0, 'Epochs=200, LR=0.01, BS=64'),\n",
       " Text(0.5, 12.5, 'PREDICTION'),\n",
       " Text(30.5, 0.5, 'TRUE LABEL')]"
      ]
     },
     "execution_count": 27,
     "metadata": {},
     "output_type": "execute_result"
    },
    {
     "data": {
      "image/png": "[encoded data removed]",
      "text/plain": [
       "<Figure size 432x288 with 2 Axes>"
      ]
     },
     "metadata": {},
     "output_type": "display_data"
    }
   ],
   "source": [
    "confusion_matrix_df = pd.DataFrame(confusion_matrix(y_test, y_pred_list))\n",
    "heatmap = sns.heatmap(confusion_matrix_df,  xticklabels=['Sell','Hold','Buy'], \n",
    "                      yticklabels=['Sell','Hold','Buy'],annot=True, cmap=\"rocket\")\n",
    "heatmap.set(title=f'Epochs={EPOCHS}, LR={LEARNING_RATE}, BS={BATCH_SIZE}', xlabel=\"PREDICTION\", ylabel=\"TRUE LABEL\",)"
   ]
  }
 ],
 "metadata": {
  "kernelspec": {
   "display_name": "Python 3 (ipykernel)",
   "language": "python",
   "name": "python3"
  },
  "language_info": {
   "codemirror_mode": {
    "name": "ipython",
    "version": 3
   },
   "file_extension": ".py",
   "mimetype": "text/x-python",
   "name": "python",
   "nbconvert_exporter": "python",
   "pygments_lexer": "ipython3",
   "version": "3.7.11"
  }
 },
 "nbformat": 4,
 "nbformat_minor": 5
}
